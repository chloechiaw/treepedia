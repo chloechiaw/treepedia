{
 "cells": [
  {
   "cell_type": "code",
   "execution_count": null,
   "metadata": {},
   "outputs": [],
   "source": [
    "import yolov7\n",
    "import cv2\n",
    "import torch\n",
    "from datetime import datetime\n",
    "import numpy as np"
   ]
  },
  {
   "cell_type": "code",
   "execution_count": null,
   "metadata": {},
   "outputs": [],
   "source": [
    "device = torch.device(\"cuda:1\" if torch.cuda.is_available() else \"cpu\")"
   ]
  },
  {
   "cell_type": "code",
   "execution_count": null,
   "metadata": {},
   "outputs": [],
   "source": [
    "CAR_HEIGHT = 1600 #in mm\n",
    "BIKE_HEIGHT = 1450 #in mm\n",
    "TRUCK_HEIGHT = 3500 #in mm\n",
    "FOCAL_LENGTH = 3.67 # in mm\n",
    "SENSOR_HEIGHT = 3.5 # in mm "
   ]
  },
  {
   "cell_type": "code",
   "execution_count": null,
   "metadata": {},
   "outputs": [],
   "source": [
    "model_yolo = yolov7.load('./data_models/yolov7_best.pt', device=device)\n",
    "model_yolo.conf = 0.25  # NMS confidence threshold\n",
    "model_yolo.iou = 0.45  # NMS IoU threshold\n",
    "model_yolo.classes = None  # (optional list) filter by class"
   ]
  },
  {
   "cell_type": "code",
   "execution_count": null,
   "metadata": {},
   "outputs": [],
   "source": [
    "vehicle_idx_dict = {0: \"car\", 1: \"truck\", 2: \"bus\", 3: \"motorcycle\"}"
   ]
  },
  {
   "cell_type": "code",
   "execution_count": null,
   "metadata": {},
   "outputs": [],
   "source": [
    "vidcap = cv2.VideoCapture(\"../emission_mapping/dataset/videos/demo_3.mp4\")  ## Load video here. Provide complete path to the video here\n",
    "IMAGE_WIDTH = int(vidcap.get(3))\n",
    "IMAGE_HEIGHT = int(vidcap.get(4))\n",
    "FPS = vidcap.get(cv2.CAP_PROP_FPS)\n",
    "WRITE_VIDEO = False\n",
    "DIST_THRESH = 35\n",
    "\n",
    "ret, frame = vidcap.read()\n",
    "\n",
    "if WRITE_VIDEO:\n",
    "    fourcc = cv2.VideoWriter_fourcc(*'MJPG')\n",
    "    out = cv2.VideoWriter(f\"{datetime.now().strftime('%Y-%m-%d %H:%M:%S')}.mp4\", fourcc, int(FPS), (IMAGE_WIDTH, IMAGE_HEIGHT))"
   ]
  },
  {
   "cell_type": "code",
   "execution_count": null,
   "metadata": {},
   "outputs": [],
   "source": [
    "i = 0\n",
    "while ret:\n",
    "    print(i, end=\"\\r\")\n",
    "    ret, frame = vidcap.read()\n",
    "    frame_rgb = cv2.cvtColor(frame, cv2.COLOR_BGR2RGB)\n",
    "    IMAGE_HEIGHT, IMAGE_WIDTH, _ = frame_rgb.shape\n",
    "    \n",
    "    results = model_yolo(frame, size = 640, augment = False) # Augment = True for TTA\n",
    "\n",
    "    # Parse results\n",
    "    predictions = results.pred[0]\n",
    "    boxes = predictions[:, :4] # x1, y1, x2, y2\n",
    "    scores = predictions[:, 4]\n",
    "    categories = predictions[:, 5]\n",
    "    \n",
    "    for vehicle_idx in range(len(boxes)):\n",
    "        xmin, ymin, xmax, ymax = list(map(int, boxes[vehicle_idx]))\n",
    "        height_box = ymax - ymin\n",
    "        width_box = xmax - xmin\n",
    "        center_box = (int(width_box/2), int(height_box/2))\n",
    "        vehicle_category = vehicle_idx_dict[int(categories[vehicle_idx])]\n",
    "        \n",
    "        if vehicle_category == \"car\":\n",
    "            distance_car = round(np.divide((FOCAL_LENGTH * CAR_HEIGHT * IMAGE_HEIGHT)/(height_box * SENSOR_HEIGHT), 1000), 2)\n",
    "        elif vehicle_category == \"truck\" or vehicle_category == \"bus\":\n",
    "            distance_truck_bus = round(np.divide((FOCAL_LENGTH * TRUCK_HEIGHT * IMAGE_HEIGHT)/(height_box * SENSOR_HEIGHT), 1000), 2)\n",
    "        else: \n",
    "            distance_motorcycle = round(np.divide((FOCAL_LENGTH * BIKE_HEIGHT * IMAGE_HEIGHT)/(height_box * SENSOR_HEIGHT), 1000), 2)\n",
    "    i += 1"
   ]
  }
 ],
 "metadata": {
  "kernelspec": {
   "display_name": "mdx_convnext",
   "language": "python",
   "name": "python3"
  },
  "language_info": {
   "codemirror_mode": {
    "name": "ipython",
    "version": 3
   },
   "file_extension": ".py",
   "mimetype": "text/x-python",
   "name": "python",
   "nbconvert_exporter": "python",
   "pygments_lexer": "ipython3",
   "version": "3.9.0"
  },
  "orig_nbformat": 4
 },
 "nbformat": 4,
 "nbformat_minor": 2
}
